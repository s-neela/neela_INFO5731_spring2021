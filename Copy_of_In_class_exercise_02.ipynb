{
  "nbformat": 4,
  "nbformat_minor": 0,
  "metadata": {
    "colab": {
      "name": "Copy of In_class_exercise_02.ipynb",
      "provenance": [],
      "collapsed_sections": [],
      "include_colab_link": true
    },
    "kernelspec": {
      "display_name": "Python 3",
      "language": "python",
      "name": "python3"
    },
    "language_info": {
      "codemirror_mode": {
        "name": "ipython",
        "version": 3
      },
      "file_extension": ".py",
      "mimetype": "text/x-python",
      "name": "python",
      "nbconvert_exporter": "python",
      "pygments_lexer": "ipython3",
      "version": "3.7.4"
    }
  },
  "cells": [
    {
      "cell_type": "markdown",
      "metadata": {
        "id": "view-in-github",
        "colab_type": "text"
      },
      "source": [
        "<a href=\"https://colab.research.google.com/github/s-neela/neela_INFO5731_spring2021/blob/main/Copy_of_In_class_exercise_02.ipynb\" target=\"_parent\"><img src=\"https://colab.research.google.com/assets/colab-badge.svg\" alt=\"Open In Colab\"/></a>"
      ]
    },
    {
      "cell_type": "markdown",
      "metadata": {
        "id": "oo5bsEh2eeWi"
      },
      "source": [
        "# **The second In-class-exercise (1/27/2021, 20 points in total)**\n"
      ]
    },
    {
      "cell_type": "markdown",
      "metadata": {
        "id": "2sPQ58dIeqgp"
      },
      "source": [
        "(1) Write a Python program to find the duplicate elements in a given array of integers. Return -1 If there are no such elements. (4 points)"
      ]
    },
    {
      "cell_type": "code",
      "metadata": {
        "id": "mnrvKMFTeoJR",
        "colab": {
          "base_uri": "https://localhost:8080/"
        },
        "outputId": "49a92f11-67dc-4bab-dc0b-b3d8073ceb0a"
      },
      "source": [
        "# write your answer here\n",
        "def check_duplicates(list):\n",
        "  if len(list) == len(set(list)):\n",
        "    return -1 # No Dups return -1 as in the requirements.\n",
        "  else:\n",
        "    return 1 \n",
        "\n",
        "listHasDups = [1, 4, 6, 7 ,8,9, 1] # 1 is the duplicate in this list\n",
        "listNoDups = [1, 3, 5 , 7, 10, 12]\n",
        "\n",
        "print(f'Checking List Has Dups: {check_duplicates(listHasDups)}')\n",
        "print(f'Checking List Has No Dups: {check_duplicates(listNoDups)}')\n",
        "\n"
      ],
      "execution_count": null,
      "outputs": [
        {
          "output_type": "stream",
          "text": [
            "{1, 2, 5}\n",
            "Checking List Has Dups: 1\n",
            "Checking List Has No Dups: -1\n"
          ],
          "name": "stdout"
        }
      ]
    },
    {
      "cell_type": "markdown",
      "metadata": {
        "id": "YYrH6n6IhZoQ"
      },
      "source": [
        "(2) Write a Python program to select all the Sundays of a specified year. (4 points)\n",
        "\n"
      ]
    },
    {
      "cell_type": "code",
      "metadata": {
        "id": "OSfPLd23eLpX",
        "colab": {
          "base_uri": "https://localhost:8080/"
        },
        "outputId": "01796e3a-e280-4af0-d249-1c813bebae32"
      },
      "source": [
        "# write your answer here\n",
        "from datetime import date, timedelta\n",
        "\n",
        "def allsundays(year):\n",
        "   d = date(year, 1, 1)             \n",
        "   d += timedelta(days = 6 - d.weekday()) # First sunday \n",
        "   while d.year == year:\n",
        "      yield d\n",
        "      d += timedelta(days = 7)\n",
        "\n",
        "for d in allsundays(2021):\n",
        "   print(d)"
      ],
      "execution_count": null,
      "outputs": [
        {
          "output_type": "stream",
          "text": [
            "2021-01-03\n",
            "2021-01-10\n",
            "2021-01-17\n",
            "2021-01-24\n",
            "2021-01-31\n",
            "2021-02-07\n",
            "2021-02-14\n",
            "2021-02-21\n",
            "2021-02-28\n",
            "2021-03-07\n",
            "2021-03-14\n",
            "2021-03-21\n",
            "2021-03-28\n",
            "2021-04-04\n",
            "2021-04-11\n",
            "2021-04-18\n",
            "2021-04-25\n",
            "2021-05-02\n",
            "2021-05-09\n",
            "2021-05-16\n",
            "2021-05-23\n",
            "2021-05-30\n",
            "2021-06-06\n",
            "2021-06-13\n",
            "2021-06-20\n",
            "2021-06-27\n",
            "2021-07-04\n",
            "2021-07-11\n",
            "2021-07-18\n",
            "2021-07-25\n",
            "2021-08-01\n",
            "2021-08-08\n",
            "2021-08-15\n",
            "2021-08-22\n",
            "2021-08-29\n",
            "2021-09-05\n",
            "2021-09-12\n",
            "2021-09-19\n",
            "2021-09-26\n",
            "2021-10-03\n",
            "2021-10-10\n",
            "2021-10-17\n",
            "2021-10-24\n",
            "2021-10-31\n",
            "2021-11-07\n",
            "2021-11-14\n",
            "2021-11-21\n",
            "2021-11-28\n",
            "2021-12-05\n",
            "2021-12-12\n",
            "2021-12-19\n",
            "2021-12-26\n"
          ],
          "name": "stdout"
        }
      ]
    },
    {
      "cell_type": "markdown",
      "metadata": {
        "id": "UIpziZ6Sjie-"
      },
      "source": [
        "(3) Python files reading and writing. Download the “[exercise_02_data _collection.zip](https://github.com/unt-iialab/info5731_spring2021/blob/main/class_exercises/exercise_02_data_collection.zip)” to your local and un-zip it.\n",
        "\n",
        "*   Write a program to read all the txt files and save the sentences in all the files into one csv file with two columns, the first column is sentence id (txt file name+sentence line number), the second column is the sentence text content. (4 points)\n",
        "*   Remove all the punctuations from the sentences, save the processed sentences into a new column in the same csv file. (4 points)\n",
        "*   Ask the user to enter a word, return all the sentences that include this word, three kinds of information should be returned: sentence id, sentence text content, the count that user input word appear in the sentence. (4 points)\n",
        "\n"
      ]
    },
    {
      "cell_type": "code",
      "metadata": {
        "id": "f3CUsrWOj1Xy",
        "colab": {
          "base_uri": "https://localhost:8080/"
        },
        "outputId": "4d1ceae9-e00c-4921-c819-7eaa24da570e"
      },
      "source": [
        "# write your answer here\n",
        "from urllib.request import urlopen\n",
        "from zipfile import ZipFile \n",
        "import glob\n",
        "import string\n",
        "import shutil\n",
        "import csv\n",
        "import pandas as pd \n",
        "  \n",
        "def downloadZipFile_remote(url):\n",
        "  filepath = \"assignmentData.zip\"\n",
        "  zipResp = urlopen(zipUrl)\n",
        "  tempZip = open(filepath,\"wb\")\n",
        "  tempZip.write(zipResp.read())\n",
        "  tempZip.close()\n",
        "  return filepath\n",
        "\n",
        "def RemovePunctuations(sentence):\n",
        "  return sentence.translate(sentence.maketrans('', '', string.punctuation))\n",
        "\n",
        "\n",
        "def ImportDataFilesIntoCsv(zipflieurl):\n",
        "  # Download and extract zipfiles\n",
        "  zipFilePath = downloadZipFile_remote(zipflieurl)\n",
        "  zipfile = ZipFile(zipFilePath)\n",
        "  zipfile.extractall()\n",
        "\n",
        "  # Import the files Content into CSV data file\n",
        "  datafiles = [f for f in glob.glob(\"exercise_02_data_collection\" + \"**/*.txt\")]\n",
        "\n",
        "  with open(\"outputCsvFile.csv\",\"w\") as outputCsvFile:\n",
        "    csvWriter = csv.writer(outputCsvFile)\n",
        "    columnHeaders = [\"sentence_id\",\"sentence_content\",\"sentence_processed\"]\n",
        "    csvWriter.writerow(columnHeaders)  \n",
        "    for file in datafiles:\n",
        "      with open(file, 'r') as openedFile:\n",
        "        result = openedFile.readlines()      \n",
        "        for idx, line in enumerate(result):\n",
        "          row = [f\"{openedFile.name}-{idx+1}\", line.strip('\\n'), RemovePunctuations(line).strip('\\n')]\n",
        "          csvWriter.writerow(row)\n",
        "    # Clean up Files\n",
        "    os.remove(zipFilePath)\n",
        "    shutil.rmtree(\"exercise_02_data_collection\")\n",
        "    return outputCsvFile.name\n",
        "\n",
        "\n",
        "zipUrl = \"https://github.com/unt-iialab/info5731_spring2021/blob/main/class_exercises/exercise_02_data_collection.zip?raw=true\"\n",
        "csvFile = ImportDataFilesIntoCsv(zipUrl)\n",
        "data = pd.read_csv(csvFile)\n",
        "print(data)\n",
        "wordToQuery = input(\"Enter the Word to Serach: \")\n",
        "\n",
        "\n",
        " "
      ],
      "execution_count": null,
      "outputs": [
        {
          "output_type": "stream",
          "text": [
            "                                        sentence_id  ...                                 sentence_processed\n",
            "0    exercise_02_data_collection/ARTHROTEC.36.txt-1  ...  Took my 1st pill 5 hours ago  almost immediate...\n",
            "1    exercise_02_data_collection/ARTHROTEC.36.txt-2  ...                            Much like period cramps\n",
            "2    exercise_02_data_collection/ARTHROTEC.36.txt-3  ...  Just took 2 Advil to try  combat the cramping ...\n",
            "3    exercise_02_data_collection/ARTHROTEC.36.txt-4  ...                                 Also some diarrhea\n",
            "4    exercise_02_data_collection/ARTHROTEC.36.txt-5  ...                    Will not take any more of these\n",
            "..                                              ...  ...                                                ...\n",
            "530  exercise_02_data_collection/ARTHROTEC.52.txt-1  ...  Went to hospital for my Tmj pain because it wa...\n",
            "531  exercise_02_data_collection/ARTHROTEC.52.txt-2  ...      A doctor prescribed me this to take two a day\n",
            "532  exercise_02_data_collection/ARTHROTEC.52.txt-3  ...  One pill and 20 minutes later the worse period...\n",
            "533  exercise_02_data_collection/ARTHROTEC.52.txt-4  ...  After half an hour it passed but its been a da...\n",
            "534  exercise_02_data_collection/ARTHROTEC.52.txt-5  ...                                 Im scared to death\n",
            "\n",
            "[535 rows x 3 columns]\n",
            "Enter the Word to Serach: Took\n"
          ],
          "name": "stdout"
        }
      ]
    },
    {
      "cell_type": "markdown",
      "metadata": {
        "id": "-12cqmJEpZOh"
      },
      "source": [
        "(4) Install packages nltk, numpy, scipy, pandas, and sklearn on Google Colab. Write a program to test whether they are installed successfully. (3 points for extra)"
      ]
    },
    {
      "cell_type": "code",
      "metadata": {
        "id": "f1pn1Zl2qK77",
        "colab": {
          "base_uri": "https://localhost:8080/"
        },
        "outputId": "da6cea50-3e8c-4a65-9622-bfdfffc17fd4"
      },
      "source": [
        "# write your answer here\n",
        "!pip install nltk numpy spicy pandas sklearn\n",
        "\n",
        "print(\"Verifying List of requested packages are installed : \")\n",
        "!pip list | grep \"nltk\\|numpy\\|spicy\\|pandas\\|sklearn\"\n",
        "\n",
        "\n"
      ],
      "execution_count": null,
      "outputs": [
        {
          "output_type": "stream",
          "text": [
            "Requirement already satisfied: nltk in /usr/local/lib/python3.6/dist-packages (3.2.5)\n",
            "Requirement already satisfied: numpy in /usr/local/lib/python3.6/dist-packages (1.19.5)\n",
            "Requirement already satisfied: spicy in /usr/local/lib/python3.6/dist-packages (0.16.0)\n",
            "Requirement already satisfied: pandas in /usr/local/lib/python3.6/dist-packages (1.1.5)\n",
            "Requirement already satisfied: sklearn in /usr/local/lib/python3.6/dist-packages (0.0)\n",
            "Requirement already satisfied: six in /usr/local/lib/python3.6/dist-packages (from nltk) (1.15.0)\n",
            "Requirement already satisfied: scipy in /usr/local/lib/python3.6/dist-packages (from spicy) (1.4.1)\n",
            "Requirement already satisfied: pytz>=2017.2 in /usr/local/lib/python3.6/dist-packages (from pandas) (2018.9)\n",
            "Requirement already satisfied: python-dateutil>=2.7.3 in /usr/local/lib/python3.6/dist-packages (from pandas) (2.8.1)\n",
            "Requirement already satisfied: scikit-learn in /usr/local/lib/python3.6/dist-packages (from sklearn) (0.22.2.post1)\n",
            "Requirement already satisfied: joblib>=0.11 in /usr/local/lib/python3.6/dist-packages (from scikit-learn->sklearn) (1.0.0)\n",
            "Verifying List of requested packages are installed : \n",
            "nltk                          3.2.5          \n",
            "numpy                         1.19.5         \n",
            "pandas                        1.1.5          \n",
            "pandas-datareader             0.9.0          \n",
            "pandas-gbq                    0.13.3         \n",
            "pandas-profiling              1.4.1          \n",
            "sklearn                       0.0            \n",
            "sklearn-pandas                1.8.0          \n",
            "spicy                         0.16.0         \n"
          ],
          "name": "stdout"
        }
      ]
    }
  ]
}