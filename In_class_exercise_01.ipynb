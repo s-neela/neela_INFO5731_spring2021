{
  "nbformat": 4,
  "nbformat_minor": 0,
  "metadata": {
    "colab": {
      "name": "In_class_exercise_01.ipynb",
      "provenance": [],
      "collapsed_sections": [],
      "include_colab_link": true
    },
    "kernelspec": {
      "display_name": "Python 3",
      "language": "python",
      "name": "python3"
    },
    "language_info": {
      "codemirror_mode": {
        "name": "ipython",
        "version": 3
      },
      "file_extension": ".py",
      "mimetype": "text/x-python",
      "name": "python",
      "nbconvert_exporter": "python",
      "pygments_lexer": "ipython3",
      "version": "3.7.4"
    }
  },
  "cells": [
    {
      "cell_type": "markdown",
      "metadata": {
        "id": "view-in-github",
        "colab_type": "text"
      },
      "source": [
        "<a href=\"https://colab.research.google.com/github/s-neela/neela_INFO5731_spring2021/blob/main/In_class_exercise_01.ipynb\" target=\"_parent\"><img src=\"https://colab.research.google.com/assets/colab-badge.svg\" alt=\"Open In Colab\"/></a>"
      ]
    },
    {
      "cell_type": "markdown",
      "metadata": {
        "id": "DymRJbxDBCnf"
      },
      "source": [
        "# **The first In-class-exercise (9/2/2020, 20 points in total)**"
      ]
    },
    {
      "cell_type": "markdown",
      "metadata": {
        "id": "03jb4GZsBkBS"
      },
      "source": [
        "(1) Write a Python program to calculate the length of a string. (2 points)"
      ]
    },
    {
      "cell_type": "code",
      "metadata": {
        "colab": {
          "base_uri": "https://localhost:8080/"
        },
        "id": "YaGLbSHHB8Ej",
        "outputId": "0dda3447-df9a-4692-f573-b3486280f956"
      },
      "source": [
        "# write your answer here\n",
        "import sys\n",
        "\n",
        "string = input(\"Enter the String : \")\n",
        "print(f\"Length of String '{string}' is : '\")\n",
        "print(len(string))"
      ],
      "execution_count": null,
      "outputs": [
        {
          "output_type": "stream",
          "text": [
            "Enter the String : Hello Neela Ram\n",
            "Length of String 'Hello Neela Ram' is : '\n",
            "15\n"
          ],
          "name": "stdout"
        }
      ]
    },
    {
      "cell_type": "code",
      "metadata": {
        "id": "RIJDAdYuM3-5"
      },
      "source": [
        ""
      ],
      "execution_count": null,
      "outputs": []
    },
    {
      "cell_type": "markdown",
      "metadata": {
        "id": "jJDe71iLB616"
      },
      "source": [
        "(2) Write a Python program to count the number of characters in a string. (2 points)\n",
        "\n",
        "Sample String : 'google.com‘, \n",
        "\n",
        "Expected Result : {'o': 3, 'g': 2, '.': 1, 'e': 1, 'l': 1, 'm': 1, 'c': 1}"
      ]
    },
    {
      "cell_type": "code",
      "metadata": {
        "id": "MtKskTzbCLaU",
        "colab": {
          "base_uri": "https://localhost:8080/"
        },
        "outputId": "27b57c82-4db1-42fa-b031-c8ebd9d712da"
      },
      "source": [
        "# write your answer here\n",
        "string = input(\"Enter the String : \")\n",
        "\n",
        "result = {i : string.count(i) for i in set(string)}\n",
        "\n",
        "print(f\"Number of Characters in String '{string}' is : \")\n",
        "print(result)\n",
        "\n",
        "\n",
        "\n"
      ],
      "execution_count": 4,
      "outputs": [
        {
          "output_type": "stream",
          "text": [
            "Enter the String : google.com\n",
            "{'g', 'c', '.', 'l', 'e', 'm', 'o'}\n",
            "Number of Characters in String 'google.com' is : \n",
            "{'g': 2, 'c': 1, '.': 1, 'l': 1, 'e': 1, 'm': 1, 'o': 3}\n"
          ],
          "name": "stdout"
        }
      ]
    },
    {
      "cell_type": "markdown",
      "metadata": {
        "id": "55W9AMdXCSpV"
      },
      "source": [
        "(3) Write a Python program to sum all the items in a list. (2 points)"
      ]
    },
    {
      "cell_type": "code",
      "metadata": {
        "id": "I57NXsauCec2",
        "colab": {
          "base_uri": "https://localhost:8080/"
        },
        "outputId": "954d616d-3a49-4232-c837-108244ef20f0"
      },
      "source": [
        "# write your answer here\n",
        "list = [10,9,12,15,17]\n",
        "total = sum(list)\n",
        "\n",
        "print(f\"Sum of all the items in a list '{list}' is : \")\n",
        "print(total)"
      ],
      "execution_count": 6,
      "outputs": [
        {
          "output_type": "stream",
          "text": [
            "Sum of all the items in a list '[10, 9, 12, 15, 17]' is : \n",
            "63\n"
          ],
          "name": "stdout"
        }
      ]
    },
    {
      "cell_type": "markdown",
      "metadata": {
        "id": "4ulBZ6yhCi9F"
      },
      "source": [
        "(4) Write a Python program to get a string from a given string where all occurrences of its first char have been changed to '\\$', except the first char itself. (2 points)\n",
        "\n",
        "Sample String : 'restart‘, \n",
        "\n",
        "Expected Result : 'resta\\$t'"
      ]
    },
    {
      "cell_type": "code",
      "metadata": {
        "id": "Fj0XhwbBCw2o",
        "colab": {
          "base_uri": "https://localhost:8080/"
        },
        "outputId": "43692156-e024-4518-f114-db478d8d023c"
      },
      "source": [
        "# write your answer here\n",
        "import sys\n",
        "\n",
        "inputstring = input(\"Enter String : \")\n",
        "firstChar = inputstring[0]\n",
        "replaced = inputstring.replace(firstChar, '$')\n",
        "result = firstChar + replaced[1:]\n",
        "\n",
        "print(f\"Result is : {result}\")"
      ],
      "execution_count": 33,
      "outputs": [
        {
          "output_type": "stream",
          "text": [
            "Enter String : google\n",
            "Result is : goo$le\n"
          ],
          "name": "stdout"
        }
      ]
    },
    {
      "cell_type": "markdown",
      "metadata": {
        "id": "_bIP7s1MCzue"
      },
      "source": [
        "(5) Write a program with python which could accept two parameter a and b to calculate and output the result of S, where \n",
        "\n",
        "$\\ S=3.14*(1+a/b)^3$ (3 points)\n",
        "\n"
      ]
    },
    {
      "cell_type": "code",
      "metadata": {
        "id": "w79QilHXD3Mg",
        "colab": {
          "base_uri": "https://localhost:8080/"
        },
        "outputId": "cf9d8ec5-39e2-4a48-c81b-23c5cd44cd39"
      },
      "source": [
        "# write your answer here\n",
        "import math\n",
        "import sys\n",
        "\n",
        "a = int(input(\"Enter the Value of a: \")) \n",
        "b = int(input(\"Enter the value of b: \"))\n",
        "\n",
        "\n",
        "s = 3.14 * pow((1+(a/b)),3)\n",
        "\n",
        "print(f\"Result is : {s}\")\n",
        "\n"
      ],
      "execution_count": 11,
      "outputs": [
        {
          "output_type": "stream",
          "text": [
            "Enter the Value of a: 10\n",
            "Enter the value of b: 20\n",
            "Result is : 10.5975\n"
          ],
          "name": "stdout"
        }
      ]
    },
    {
      "cell_type": "markdown",
      "metadata": {
        "id": "xCa2bK9aD4Q3"
      },
      "source": [
        "(6) Write a Python program to concatenate following dictionaries to create a new one. (3 points)\n",
        "\n",
        "Sample Dictionary : dic1={1:10, 2:20}, dic2={3:30, 4:40}, dic3={5:50,6:60}, \n",
        "\n",
        "Expected Result : {1: 10, 2: 20, 3: 30, 4: 40, 5: 50, 6: 60}\n"
      ]
    },
    {
      "cell_type": "code",
      "metadata": {
        "id": "_z4aLqAbEET1",
        "colab": {
          "base_uri": "https://localhost:8080/"
        },
        "outputId": "5f923940-9a4b-42ed-dd11-b047f1c7bc45"
      },
      "source": [
        "# write your answer here\n",
        "dic1={1:10, 2:20}\n",
        "dic2={3:30, 4:40}\n",
        "dic3={5:50, 6:60}\n",
        "\n",
        "result = dict(dic1)\n",
        "result.update(dic2)\n",
        "result.update(dic3)\n",
        "\n",
        "print(result)"
      ],
      "execution_count": 20,
      "outputs": [
        {
          "output_type": "stream",
          "text": [
            "{1: 10, 2: 20, 3: 30, 4: 40, 5: 50, 6: 60}\n"
          ],
          "name": "stdout"
        }
      ]
    },
    {
      "cell_type": "markdown",
      "metadata": {
        "id": "0v48Vqa7FrQh"
      },
      "source": [
        "(7) Write a Python program to check whether an element exists within a tuple. (3 points)"
      ]
    },
    {
      "cell_type": "code",
      "metadata": {
        "id": "7WEmgq-DF2P1",
        "colab": {
          "base_uri": "https://localhost:8080/"
        },
        "outputId": "f1f0a165-a561-470a-d0d1-4c26d5f34758"
      },
      "source": [
        "# write your answer here\n",
        "testTuple = (\"a\", 3 , \"x\", 19, \"v\")\n",
        "\n",
        "print(f\"Checking 3 exist in tuple {testTuple} : {3 in testTuple}\")\n",
        "print(f\"Checking 10 exist in tuple {testTuple} : {10 in testTuple}\")"
      ],
      "execution_count": 26,
      "outputs": [
        {
          "output_type": "stream",
          "text": [
            "Checking 3 exist in tuple ('a', 3, 'x', 19, 'v') : True\n",
            "Checking 10 exist in tuple ('a', 3, 'x', 19, 'v') : False\n"
          ],
          "name": "stdout"
        }
      ]
    },
    {
      "cell_type": "markdown",
      "metadata": {
        "id": "vD5PYLMuGga_"
      },
      "source": [
        "(8) Write a Python program to find maximum and the minimum value in a set. (3 points)"
      ]
    },
    {
      "cell_type": "code",
      "metadata": {
        "id": "t0D5kdJUGjjw",
        "colab": {
          "base_uri": "https://localhost:8080/"
        },
        "outputId": "c925763b-49fe-416a-82a6-c054fb923828"
      },
      "source": [
        "# write your answer here\n",
        "testset = [10,29,18,19,12]\n",
        "maxVlaue = max(testset)\n",
        "minValue = min(testset)\n",
        "\n",
        "print(f\"Max Value in set {testset} : {maxVlaue}\")\n",
        "print(f\"Min Value in set {testset} : {minValue}\")\n"
      ],
      "execution_count": 23,
      "outputs": [
        {
          "output_type": "stream",
          "text": [
            "Max Value in set [10, 29, 18, 19, 12] : 29\n",
            "Min Value in set [10, 29, 18, 19, 12] : 10\n"
          ],
          "name": "stdout"
        }
      ]
    },
    {
      "cell_type": "markdown",
      "metadata": {
        "id": "uHkd-y5VhVWC"
      },
      "source": [
        "(9) Write a Python program to randomly divide the students in this class into five groups for term projects, each group should have at least 3 students but no more than 5 students (including 5). Here is the students list: (3 points for extra)\n",
        "\n",
        "studnet_list = ['vmb0067','pc0353','snd0097','yye0005','sg0940','bk0301','rak0120','rrk0058','spk0057','vl0135','nm0547','pn0159',\n",
        "                'msp0174','dd0420','ds0761','rs0850','ss1995','at0739','at0768','mv0299','tv0119','dy0091']"
      ]
    },
    {
      "cell_type": "code",
      "metadata": {
        "id": "3iGbmcOBhTwy",
        "colab": {
          "base_uri": "https://localhost:8080/"
        },
        "outputId": "7249e416-38b5-4610-e958-f122297ac59a"
      },
      "source": [
        "# write your answer here\n",
        "import random \n",
        "def partition (list_in, n):\n",
        "    random.shuffle(list_in)\n",
        "    return [list_in[i::n] for i in range(n)]\n",
        "\n",
        "studnet_list = ['vmb0067','pc0353','snd0097','yye0005','sg0940','bk0301','rak0120','rrk0058','spk0057','vl0135','nm0547','pn0159', 'msp0174','dd0420','ds0761','rs0850','ss1995','at0739','at0768','mv0299','tv0119','dy0091']\n",
        "\n",
        "\n",
        "print(partition(studnet_list,5))"
      ],
      "execution_count": 27,
      "outputs": [
        {
          "output_type": "stream",
          "text": [
            "[['pc0353', 'dd0420', 'rrk0058', 'msp0174', 'dy0091'], ['rs0850', 'rak0120', 'mv0299', 'ss1995', 'spk0057'], ['tv0119', 'at0768', 'nm0547', 'vl0135'], ['yye0005', 'vmb0067', 'pn0159', 'ds0761'], ['at0739', 'snd0097', 'sg0940', 'bk0301']]\n"
          ],
          "name": "stdout"
        }
      ]
    }
  ]
}