{
  "nbformat": 4,
  "nbformat_minor": 0,
  "metadata": {
    "colab": {
      "name": "Copy of In_class_exercise_06.ipynb",
      "provenance": [],
      "collapsed_sections": [],
      "include_colab_link": true
    },
    "kernelspec": {
      "display_name": "Python 3",
      "language": "python",
      "name": "python3"
    },
    "language_info": {
      "codemirror_mode": {
        "name": "ipython",
        "version": 3
      },
      "file_extension": ".py",
      "mimetype": "text/x-python",
      "name": "python",
      "nbconvert_exporter": "python",
      "pygments_lexer": "ipython3",
      "version": "3.8.5"
    }
  },
  "cells": [
    {
      "cell_type": "markdown",
      "metadata": {
        "id": "view-in-github",
        "colab_type": "text"
      },
      "source": [
        "<a href=\"https://colab.research.google.com/github/s-neela/neela_INFO5731_spring2021/blob/main/Copy_of_In_class_exercise_06.ipynb\" target=\"_parent\"><img src=\"https://colab.research.google.com/assets/colab-badge.svg\" alt=\"Open In Colab\"/></a>"
      ]
    },
    {
      "cell_type": "markdown",
      "metadata": {
        "id": "z7TahL04sVvR"
      },
      "source": [
        "# **The sixth in-class-exercise (20 points in total, 3/2/2021)**"
      ]
    },
    {
      "cell_type": "markdown",
      "metadata": {
        "id": "ejyZITr8sjnh"
      },
      "source": [
        "## **1. Rule-based information extraction (10 points)**\n",
        "\n",
        "Use any keywords related to data science, natural language processing, machine learning to search from google scholar, get the **titles** of 100 articles (either by web scraping or manually) about this topic, define a set of patterns to extract the research questions/problems, methods/algorithms/models, datasets, applications, or any other important information about this topic. "
      ]
    },
    {
      "cell_type": "code",
      "metadata": {
        "colab": {
          "base_uri": "https://localhost:8080/"
        },
        "id": "XvR_O9D8sOUY",
        "outputId": "0ac2d03f-4062-4ee3-e8f1-b7c54d2ac981"
      },
      "source": [
        "import pandas as pd\r\n",
        "import requests\r\n",
        "from bs4 import BeautifulSoup\r\n",
        "def insert_into_array(values,ref_array):\r\n",
        "  for i in values:\r\n",
        "    ref_array.append(i.text)\r\n",
        "titles=[]\r\n",
        "for i in range(0,100,10):\r\n",
        "  URL=\"http://citeseerx.ist.psu.edu/search?q=data+mining&t=doc&sort=rlv&start=\"+str(i)\r\n",
        "  page=requests.get(URL,headers={'User-Agent':'Chrome/85.0.4183.121'})\r\n",
        "  soup = BeautifulSoup(page.content, 'html.parser')\r\n",
        "  insert_into_array(soup.find_all('a', class_='remove doc_details'),titles)\r\n",
        "print(titles)"
      ],
      "execution_count": null,
      "outputs": [
        {
          "output_type": "stream",
          "text": [
            "['\\n                  Privacy Preserving Data Mining\\n', '\\n                   \\t Privacy-Preserving Data Mining\\n', '\\nData Mining: Concepts and Techniques\\n                  ', '\\n                  The WEKA Data Mining Software: An Update\\n                  ', '\\n                  Efficient and Effective Clustering Methods for Spatial Data Mining\\n', '\\nData Mining: An Overview from Database Perspective\\n                  ', '\\n                  From Data Mining to Knowledge Discovery in Databases.\\n                  ', '\\nData Mining Approaches for Intrusion Detection,\\n                  ', '\\n                  Survey of clustering data mining techniques\\n                  ', '\\n                  The Elements of Statistical Learning --  Data Mining, Inference, and Prediction\\n                  ', '\\n                  Untangling text data mining\\n', '\\n                  Fastmap: A fast algorithm for indexing, data-mining and visualization of traditional and multimedia datasets\\n                  ', '\\n                  SPRINT: A scalable parallel classifier for data mining\\n', '\\n                  Astrolabe: A Robust and Scalable Technology for Distributed System Monitoring, Management, and Data Mining\\n', '\\n                  Limiting Privacy Breaches in Privacy Preserving Data Mining\\n', '\\nDATA MINING\\n', '\\n                  Graph-Based Data Mining\\n', '\\nData Mining\\n', '\\nData Mining\\n', '\\nData Mining for Web Intelligence\\n                  ', '\\nDATA MINING\\n', '\\nMining the Network Value of Customers\\n                  ', '\\n                  The Quest Data Mining System\\n                  ', '\\n                  SLIQ: A Fast Scalable Classifier for Data Mining\\n', '\\n                  A data mining framework for building intrusion detection models. In:\\n                  ', '\\nData Mining\\n', '\\nData Mining an EEG Dataset With an\\n                  ', '\\nData Preparation for Mining World Wide Web Browsing Patterns\\n                  ', '\\nDATA MINING\\n', '\\nData Mining\\n', '\\nData Mining\\n', '\\n                  Uniqueness of Medical Data Mining\\n', '\\nData Mining\\n', '\\n                  STING: A statistical information grid approach to spatial data mining\\n', '\\n                  Top 10 algorithms in data mining\\n', '\\n                  On the Need for Time Series Data Mining Benchmarks: A Survey and Empirical  Demonstration\\n                  ', '\\nDATA MINING FOR HEALTHCARE MANAGEMENT\\n                  ', '\\n                  Efficient data mining for path traversal patterns\\n                  ', '\\n                  Privacy preserving data mining\\n', '\\n                  Tools for Privacy Preserving Distributed Data Mining\\n', '\\n                  Towards parameter-free data mining\\n', '\\nMining Sequential Patterns\\n                  ', '\\n                  Why Data Mining Primitives and\\n                  ', '\\n                  Extensibility in Data Mining Systems\\n                  ', '\\n                  Neuronové sítì v\\xa0data mining\\n', '\\nData Mining of User Navigation Patterns\\n                  ', '\\n                  Theoretical Framework for Data Mining\\n', '\\n                  APPLICATION OF DATA MINING IN BIOINFORMATICS\\n                  ', '\\nData Mining\\n', '\\nData Mining\\n', '\\n                  Web usage mining: Discovery and applications of usage patterns from web data\\n', '\\n                  Defining Privacy for Data Mining\\n', '\\nData mining\\n', '\\nData Mining\\n', '\\nData Mining\\n', '\\nData Mining\\n', '\\n                  and Data Mining\\n', '\\n                  • Data Mining\\n', '\\nDATA MINING\\n', '\\nData Mining\\n', '\\nData mining\\n', '\\ndata-mining\\n', '\\nData Mining\\n', '\\n                  An Overview on Data Mining\\n', '\\n                   Future trends in data mining\\n', '\\n                  ORGANIZATIONAL DATA MINING IN KOREA\\n                  ', '\\nDATA MINING TECHNIQUES AND APPLICATIONS\\n                  ', '\\n                  Automatic Subspace Clustering of High Dimensional Data\\n', '\\n                  Machine Learning and Data Mining\\n', '\\n                  Accomplishments and Challenges in Literature Data Mining for Biology\\n                  ', '\\nData Mining for Direct Marketing: Problems and Solutions\\n                  ', '\\nMining Sequential Patterns: Generalizations and Performance Improvements\\n                  ', '\\n                  Multi-Relational Data Mining: An Introduction\\n                  ', '\\n                   Reality Mining: Sensing Complex Social Systems\\n                  ', '\\n                  Interestingness measures for data mining: a survey\\n                  ', '\\nDATA MINING PERSPECTIVE\\n                  ', '\\n                   Bayesian Networks for Data Mining\\n', '\\nMining Frequent Patterns  without Candidate Generation: A Frequent-Pattern Tree Approach\\n                  ', '\\n                  CURE: An Efficient Clustering Algorithm for Large Data sets\\n                  ', '\\n                  Spatial Data Mining\\n', '\\n                  The Development of Data Mining\\n', '\\nData Mining with Big Data\\n', '\\n                  A Demonstration of Data Mining\\n', '\\n                  Scalable Parallel Data Mining for Association Rules\\n                  ', '\\n                  Dynamic Itemset Counting and Implication Rules for Market Basket Data\\n', '\\n                   An Overview of Temporal Data Mining\\n', '\\nData mining with differential privacy\\n                  ', '\\n                  A Characterization of Data Mining\\n', '\\nData mining; Intrusion\\n                  ', '\\n                  Towards semantic data mining\\n', '\\nMining Association Rules between Sets of Items in Large Databases\\n                  ', '\\nData Streams: Algorithms and Applications\\n                  ', '\\n                  Active Data Mining.\\n                  ', '\\n                  Granular computing for data mining\\n', '\\nData Mining: Trends in . . . \\n                  ', '\\n                  Normalization of Data in Data Mining\\n', '\\n                  Knowledge Discovery in Data Mining and Massive Data Mining\\n', '\\nData Mining in Social Networks\\n                  ', '\\n                  Materialized Views in Data Mining\\n', '\\n                  An introduction to ROC analysis.\\n                  ']\n"
          ],
          "name": "stdout"
        }
      ]
    },
    {
      "cell_type": "code",
      "metadata": {
        "id": "pOzyIUcaFjYk"
      },
      "source": [
        "import re \r\n",
        "import string \r\n",
        "import nltk \r\n",
        "import spacy \r\n",
        "import pandas as pd \r\n",
        "import numpy as np \r\n",
        "import math \r\n",
        "from tqdm import tqdm \r\n",
        "\r\n",
        "from spacy.matcher import Matcher \r\n",
        "from spacy.tokens import Span \r\n",
        "from spacy import displacy \r\n",
        "\r\n",
        "pd.set_option('display.max_colwidth', 200)\r\n",
        "# load spaCy model\r\n",
        "nlp = spacy.load(\"en_core_web_sm\")"
      ],
      "execution_count": null,
      "outputs": []
    },
    {
      "cell_type": "code",
      "metadata": {
        "id": "jmrVg1DsFqn3"
      },
      "source": [
        "# create a spaCy object \r\n",
        "for i in titles:\r\n",
        "  text=i\r\n",
        "  doc = nlp(text)\r\n",
        "  for tok in doc: \r\n",
        "    print(tok.text, \"-->\",tok.dep_,\"-->\", tok.pos_)\r\n",
        "  #define the pattern \r\n",
        "pattern = [{'POS':'PROPN'}, \r\n",
        "           {'LOWER': 'Algorithm'}, \r\n",
        "           ]\r\n",
        "\r\n",
        "# A token whose lowercase form matches such, e.g. “Such” or “SUCH”.\r\n",
        "# A token whose is_punct flag is set to True, i.e. any punctuation.\r\n",
        "\r\n",
        "\r\n",
        "# # Matcher class object \r\n",
        "# matcher = Matcher(nlp.vocab) \r\n",
        "# matcher.add(\"matching_1\", None, pattern) \r\n",
        "# matches = matcher(doc) \r\n",
        "# span = doc[matches[0][1]:matches[0][2]] \r\n",
        "# print(span.text)"
      ],
      "execution_count": null,
      "outputs": []
    },
    {
      "cell_type": "code",
      "metadata": {
        "colab": {
          "base_uri": "https://localhost:8080/"
        },
        "id": "0zFcISdVFv6e",
        "outputId": "bf098e33-6c62-4190-f55b-cee6e2f63731"
      },
      "source": [
        "#publications doing some kind of analysis \r\n",
        "Analysis=[]\r\n",
        "for i in titles:\r\n",
        "  x = re.search('Database', i)\r\n",
        "  if x:\r\n",
        "    Analysis.append(i)\r\n",
        "print(Analysis)"
      ],
      "execution_count": null,
      "outputs": [
        {
          "output_type": "stream",
          "text": [
            "['\\nData Mining: An Overview from Database Perspective\\n                  ', '\\n                  From Data Mining to Knowledge Discovery in Databases.\\n                  ', '\\nMining Association Rules between Sets of Items in Large Databases\\n                  ']\n"
          ],
          "name": "stdout"
        }
      ]
    },
    {
      "cell_type": "markdown",
      "metadata": {
        "id": "Dq_7VGmrsum4"
      },
      "source": [
        "## **2. Domain-specific information extraction (10 points)**\n",
        "\n",
        "For the legal case used in the data cleaning exercise: [01-05-1 Adams v Tanner.txt](https://raw.githubusercontent.com/unt-iialab/info5731_spring2021/main/class_exercises/01-05-1%20%20Adams%20v%20Tanner.txt), use [legalNLP](https://lexpredict-lexnlp.readthedocs.io/en/latest/modules/extract/extract.html#nlp-based-extraction-methods) to extract the following inforation from the text (if the information is not exist, just print None):\n",
        "\n",
        "(1) acts, e.g., “section 1 of the Advancing Hope Act, 1986”\n",
        "\n",
        "(2) amounts, e.g., “ten pounds” or “5.8 megawatts”\n",
        "\n",
        "(3) citations, e.g., “10 U.S. 100” or “1998 S. Ct. 1”\n",
        "\n",
        "(4) companies, e.g., “Lexpredict LLC”\n",
        "\n",
        "(5) conditions, e.g., “subject to …” or “unless and until …”\n",
        "\n",
        "(6) constraints, e.g., “no more than”\n",
        "\n",
        "(7) copyright, e.g., “(C) Copyright 2000 Acme”\n",
        "\n",
        "(8) courts, e.g., “Supreme Court of New York”\n",
        "\n",
        "(9) CUSIP, e.g., “392690QT3”\n",
        "\n",
        "(10) dates, e.g., “June 1, 2017” or “2018-01-01”\n",
        "\n",
        "(11) definitions, e.g., “Term shall mean …”\n",
        "\n",
        "(12) distances, e.g., “fifteen miles”\n",
        "\n",
        "(13) durations, e.g., “ten years” or “thirty days”\n",
        "\n",
        "(14) geographic and geopolitical entities, e.g., “New York” or “Norway”\n",
        "\n",
        "(15) money and currency usages, e.g., “$5” or “10 Euro”\n",
        "\n",
        "(16) percents and rates, e.g., “10%” or “50 bps”\n",
        "\n",
        "(17) PII, e.g., “212-212-2121” or “999-999-9999”\n",
        "\n",
        "(18) ratios, e.g.,” 3:1” or “four to three”\n",
        "\n",
        "(19) regulations, e.g., “32 CFR 170”\n",
        "\n",
        "(20) trademarks, e.g., “MyApp (TM)”\n",
        "\n",
        "(21) URLs, e.g., “http://acme.com/”\n",
        "\n",
        "(22) addresses, e.g., “1999 Mount Read Blvd, Rochester, NY, USA, 14615”\n",
        "\n",
        "(23) persons, e.g., “John Doe"
      ]
    },
    {
      "cell_type": "code",
      "metadata": {
        "colab": {
          "base_uri": "https://localhost:8080/"
        },
        "id": "qc7NtJrLx5tS",
        "outputId": "d797a638-73d8-4e4d-cde9-486b20e1bc6c"
      },
      "source": [
        "# write your code here\r\n",
        "import nltk\r\n",
        "nltk.download('averaged_perceptron_tagger')\r\n",
        "nltk.download('wordnet')\r\n",
        "import lexnlp.extract.en\r\n",
        "import lexnlp.extract.en.citations\r\n",
        "import lexnlp.extract.en.entities.nltk_re\r\n",
        "import lexnlp.extract.en.conditions\r\n",
        "import lexnlp.extract.en.constraints\r\n",
        "import lexnlp.extract.en.copyright\r\n",
        "import lexnlp.extract.en.courts\r\n",
        "import lexnlp.extract.en.cusip\r\n",
        "import lexnlp.extract.en.dates\r\n",
        "import lexnlp.extract.en.definitions\r\n",
        "import lexnlp.extract.en.distances\r\n",
        "import lexnlp.extract.en.durations\r\n",
        "import lexnlp.extract.en.geoentities\r\n",
        "import lexnlp.extract.en.money\r\n",
        "import lexnlp.extract.en.percents\r\n",
        "import lexnlp.extract.en.pii\r\n",
        "import lexnlp.extract.en.ratios\r\n",
        "import lexnlp.extract.en.regulations\r\n",
        "import lexnlp.extract.en.trademarks\r\n",
        "import lexnlp.extract.en.urls\r\n",
        "#court_config_data = [entity_config(0, \"Eastern District of Virginia\", 0, [\"E.D. Va.\"]),entity_config(1, \"Western District of Virginia\", 0, [\"W.D. Va.\"])]\r\n",
        "\r\n",
        "text= (open(\"inclass6a.txt\", \"r\")).read()\r\n",
        "print(\"acts:  \",list(lexnlp.extract.en.acts.get_acts(text)))\r\n",
        "print(\"amounts: \",list(lexnlp.extract.en.amounts.get_amounts(text)))\r\n",
        "print(\"citations: \", list(lexnlp.extract.en.citations.get_citations(text)))\r\n",
        "print(\"companies: \",list(lexnlp.extract.en.entities.nltk_re.get_companies(text)))\r\n",
        "print(\"conditions:\",list(lexnlp.extract.en.conditions.get_conditions(text)))\r\n",
        "print(\"constraints:\",list(lexnlp.extract.en.constraints.get_constraints(text)))\r\n",
        "print(\"copyright:\",list(lexnlp.extract.en.copyright.get_copyright(text)))\r\n",
        "print(\"dates:\",list(lexnlp.extract.en.dates.get_dates(text)))\r\n",
        "print(\"distances\",list(lexnlp.extract.en.distances.get_distances(text)))\r\n",
        "print(\"durations:\",list(lexnlp.extract.en.durations.get_durations(text)))\r\n",
        "print(\"cusip:\",list(lexnlp.extract.en.cusip.get_cusip(text)))\r\n",
        "print(\"definations\",list(lexnlp.extract.en.definitions.get_definitions(text)))\r\n",
        "print(\"money\",list(lexnlp.extract.en.money.get_money(text)))\r\n",
        "print(\"percents\",list(lexnlp.extract.en.percents.get_percents(text)))\r\n",
        "print(\"pii\",list(lexnlp.extract.en.pii.get_pii(text)))\r\n",
        "print(\"ratios\",list(lexnlp.extract.en.ratios.get_ratios(text)))\r\n",
        "print(\"regualtons\",list(lexnlp.extract.en.regulations.get_regulations(text)))\r\n",
        "print(\"trademarks:\",list(lexnlp.extract.en.trademarks.get_trademarks(text)))\r\n",
        "print(\"urls\",list(lexnlp.extract.en.urls.get_urls(text)))"
      ],
      "execution_count": null,
      "outputs": [
        {
          "output_type": "stream",
          "text": [
            "[nltk_data] Downloading package averaged_perceptron_tagger to\n",
            "[nltk_data]     /root/nltk_data...\n",
            "[nltk_data]   Package averaged_perceptron_tagger is already up-to-\n",
            "[nltk_data]       date!\n",
            "[nltk_data] Downloading package wordnet to /root/nltk_data...\n",
            "[nltk_data]   Package wordnet is already up-to-date!\n"
          ],
          "name": "stderr"
        },
        {
          "output_type": "stream",
          "text": [
            "acts:   []\n",
            "amounts:  [Decimal('5.0'), Decimal('740.0'), Decimal('1843.0'), Decimal('2.0'), Decimal('1.0'), Decimal('4.0'), Decimal('2.0'), Decimal('1821.0'), Decimal('5.0'), Decimal('1.0'), Decimal('1840.0'), Decimal('3777.0'), Decimal('80.0'), Decimal('100.0'), Decimal('30.0'), Decimal('1839.0'), Decimal('741.0'), Decimal('22.0'), Decimal('1840.0'), Decimal('14000.0'), Decimal('120.0'), Decimal('1.0'), Decimal('1840.0'), Decimal('3.0'), Decimal('4.0'), Decimal('1.0'), Decimal('1.0'), Decimal('1840.0'), Decimal('2.0'), Decimal('1.0'), Decimal('361.0'), Decimal('1.0'), Decimal('307.0'), Decimal('6.0'), Decimal('604.0'), Decimal('1.0'), Decimal('2.0'), Decimal('418.0'), Decimal('422.0'), Decimal('7.0'), Decimal('34.0'), Decimal('41.0'), Decimal('167.0'), Decimal('742.0'), Decimal('3.0'), Decimal('112.0'), Decimal('207.0'), Decimal('3.0'), Decimal('338.0'), Decimal('424.0'), Decimal('5.0'), Decimal('26.0'), Decimal('13.0'), Decimal('235.0'), Decimal('8.0'), Decimal('693.0'), Decimal('4.0'), Decimal('1821.0'), Decimal('167.0'), Decimal('2.0'), Decimal('2.0'), Decimal('216.0'), Decimal('3.0'), Decimal('66.0'), Decimal('4.0'), Decimal('130.0'), Decimal('29.0'), Decimal('2.0'), Decimal('241.0'), Decimal('2.0'), Decimal('332.0'), Decimal('2.0'), Decimal('422.0'), Decimal('9.0'), Decimal('112.0'), Decimal('743.0'), Decimal('9.0'), Decimal('39.0'), Decimal('14000.0'), Decimal('1840.0'), Decimal('744.0'), Decimal('5.0'), Decimal('182.0'), Decimal('3.0'), Decimal('368.0'), Decimal('1.0'), Decimal('397.0'), Decimal('6.0'), Decimal('604.0'), Decimal('1.0'), Decimal('1821.0'), Decimal('167.0'), Decimal('745.0'), Decimal('4.0'), Decimal('746.0'), Decimal('4.0'), Decimal('210.0'), Decimal('46.0'), Decimal('747.0'), Decimal('5.0'), Decimal('5.0'), Decimal('740.0'), Decimal('1843.0'), Decimal('284.0'), Decimal('2019.0'), Decimal('9.0'), Decimal('1.0'), Decimal('55.0'), Decimal('266.0'), Decimal('271.0'), Decimal('1876.0'), Decimal('2.0'), Decimal('47.0'), Decimal('362.0'), Decimal('376.0'), Decimal('1872.0'), Decimal('3.0'), Decimal('45.0'), Decimal('329.0'), Decimal('334.0'), Decimal('1871.0'), Decimal('4.0'), Decimal('31.0'), Decimal('526.0'), Decimal('527.0'), Decimal('1858.0'), Decimal('5.0'), Decimal('21.0'), Decimal('333.0'), Decimal('335.0'), Decimal('1852.0'), Decimal('6.0'), Decimal('8.0'), Decimal('145.0'), Decimal('147.0'), Decimal('1857.0'), Decimal('7.0'), Decimal('65.0'), Decimal('256.0'), Decimal('258.0'), Decimal('3.0'), Decimal('1880.0'), Decimal('8.0'), Decimal('4.0'), Decimal('913.0'), Decimal('914.0'), Decimal('1887.0'), Decimal('9.0'), Decimal('103.0'), Decimal('464.0'), Decimal('1936.0'), Decimal('3.0'), Decimal('1.0'), Decimal('9.0'), Decimal('39.0'), Decimal('1828.0'), Decimal('2.0'), Decimal('2.0'), Decimal('5.0'), Decimal('182.0'), Decimal('1837.0'), Decimal('2.0'), Decimal('3.0'), Decimal('9.0'), Decimal('108.0'), Decimal('1812.0'), Decimal('6.0'), Decimal('1.0'), Decimal('2.0')]\n",
            "citations:  [(5, 'Ala.', 'Alabama Reports', 740, None, None, None), (5, 'Ala.', 'Alabama Reports', 740, '1843', None, None), (55, 'Ala.', 'Alabama Reports', 266, '271', None, None), (47, 'Ala.', 'Alabama Reports', 362, '376', None, None), (45, 'Ala.', 'Alabama Reports', 329, '334', None, None), (31, 'Ala.', 'Alabama Reports', 526, '527', None, None), (21, 'Ala.', 'Alabama Reports', 333, '335', None, None), (8, 'Cal.', 'California Reports', 145, '147', None, None), (65, 'Ala.', 'Alabama Reports', 256, '258', None, None), (4, 'S.W.', 'South Western Reporter', 913, '914', None, None), (103, 'A.L.R.', 'American Law Reports', 464, None, None, None), (9, 'Cow.', \"Cowen's Reports\", 39, None, None, None), (5, 'Port.', 'Alabama Reports, Porter', 182, None, None, None), (9, 'Johns.', \"Johnson's Reports\", 108, None, None, None)]\n",
            "companies:  [Lehman, Durr Co, (17982, 18000)]\n",
            "conditions: [('until', '[2]\\nCreditors’ Remedies\\nLien and Priority\\nUnder St.1821, prohibiting a levy on a crop', ''), ('until', 'on a growing crop, nor does such lien attach', ''), ('if', 'It was proved by the claimants, by the production of a written contract, that Harrison, on the twenty-second of May, 1840, in consideration that the claimants were involved, as indorsers for Burton & Harrison of Sumter county, and were then exposed to an execution, amounting to upwards of fourteen thousand dollars, bargained and sold to the claimants all his growing crop of cotton &c., consisting of one hundred and twenty acres, &c. Allen Harrison promised and obliged himself to give up his crop to the use of the claimants at any time to save them from suffering as his indorsers;', ''), ('when', 'The claimants came from Tennessee, (where they resided) about the first of September, 1840, bringing with them three or four white laborers, and took possession of the crop and slaves, and with the latter, and white laborers, gathered the cotton, prepared it for market, and', ''), ('if', 'The court charged the jury, that the plaintiff had no lien by virtue of his judgment, and execution on the growing crop; that Harrison had a right to convey it, without being in any manner restrained by them; that the writing adduced, was a sale of the crop, but', ''), ('when', 'it was not, and the lien of the fieri facias would have attached upon it,', ''), ('if', 'gathered, yet', ''), ('not subject to', 'the claimants obtained possession on the first of September, and controlled the gathering of the crop, then no lien attached, and it was', ''), ('until', 'Rep, 693;] and', ''), ('until', '167,] which declares it to be lawful to levy an execution on a planted crop,', ''), ('if', 'It is admitted that the contract between the defendant in execution, and the claimants, was in good faith,', ''), ('when', 'The defendant in execution might at any time have divested the interest which the contract vested in the claimants, by discharging their liability as his indorsers, or a judgment creditor might have satisfied the lien, and', ''), ('unless', 'We will then consider the writing under which the claimants assert a right, as a mortgage with a power to take possession any time during the year,', ''), ('if', 'Conceding the truth of the facts stated in the bill of exceptions, and we think it will not follow, that the possession of the claimants is a nullity, and that the case must be considered as', ''), ('if', 'The contract contains an express undertaking to give up the crop at any time the claimants might require it for their indemnity, and', ''), ('if', 'they took possession of it in the absence of the grantor, (though without his consent,)', ''), ('if', 'he subsequently acquiesced in it, the inference would be,', ''), ('subject to', 'Mr. Dane, in remarking upon this point, says, “The American editor of Bacon’s Abridgment, says, ‘Wheat growing in the ground is a chattel, and', ''), ('until', 'The first section of the act of 1821, “To prevent sheriffs and other officers from levying executions in certain cases, enacts, that “It shall not be lawful for any sheriff or other officer, to levy a writ of fieri facias or other execution on the planted crop of a debtor, or person against whom an execution may issue,', ''), ('until', 'Now here is an express inhibition to levy an execution on a crop while it remains on, or in the ground, and', ''), ('until', 'If so, the act cited, will only have the effect of keeping the right to levy it in abeyance', ''), ('if', 'The lien and the right to levy are intimately connected, and', ''), ('until', 'That it was competent for the legislature to have made it unlawful to levy an execution on particular property,', ''), ('until', 'If the object was merely to suspend the sale,', ''), ('as soon as', 'The idea that the lien attached upon the planted crop', ''), ('until', 'the execution was delivered to the sheriff, though the right to levy it was postponed', ''), ('if', 'They do not refer to the lien,', ''), ('until', 'they did they would postpone it', ''), ('until', 'the crop was gathered; but it is the levy they relate to and postpone', ''), ('until', '**4 The right to levy an execution on a planted crop, then, being expressly taken away by the statute, the lien which is connected with and consequent upon that right, never attaches', ''), ('if', 'The circuit judge may have mistaken the law in supposing that the contract was a sale, but', ''), ('when', 'There is no assumption of any material fact in the charge; but the possession of the claimant, the time', ''), ('if', 'acquired, the gathering of the crop, &c., are all referred to the determination of the jury; who are instructed,', ''), ('until', '**4 The statute which presents the question before the court is, that “it shall not be lawful for any sheriff or other officer to levy a writ of fieei facias or other execution, on the planted crop of a debtor, or person against whom an execution may issue,', ''), ('subject to', 'The policy of the State, as indicated by these statutes, is undeniably that all the property of a debtor, real and personal, to which he has a legal title, shall be', ''), ('until', 'The mischief which the statute designed to remedy was, the sacrifice which would be necessarily made by the sale of an immature crop: the statute enables the debtor to retain it', ''), ('if', '**5', ''), ('until', 'The sheriff is forbidden to levy on a “planted crop”', ''), ('if', 'Now,', ''), ('until', 'This, I feel a thorough conviction, was not the intention of the legislature; but that it was to secure him from loss, by prohibiting a levy and sale of the crop,', ''), ('when', 'it was gathered,', ''), ('subject to', 'Growing crops as', ''), ('subject to', '464\\nGenerally, at common law, growing crops raised by annual planting, while still attached to the soil, are regarded as personal chattels,', ''), ('where', 'And', '')]\n",
            "constraints: [('after', 'on a growing crop, nor does such lien attach until', ''), ('after', '', ' and that alias and pluries fieri facias’, issued regularly up to the time levy was made; that the cotton levied on was growed on the plantation of harrison, and cultivated by the hands in his service.'), ('first of', 'the claimants came from tennessee, (where they resided) about the', ''), ('first of', 'the court charged the jury, that the plaintiff had no lien by virtue of his judgment, and execution on the growing crop; that harrison had a right to convey it, without being in any manner restrained by them; that the writing adduced, was a sale of the crop, but if it was not, and the lien of the fieri facias would have attached upon it, when gathered, yet if the claimants obtained possession on the', ''), ('after', 'it merely inhibits the levy, but the lien attaches, and a levy and sale may be made', ''), ('more than', 'taking this to be clear *744 law, and it will be seen, that the defendant in execution at the time of the levy had nothing', ''), ('before', 'it has been frequently mooted whether, at common law, corn, &c.,', ''), ('before', '**4 the statute which presents the question', ''), ('after', 'now, if the view taken by the majority of the court, is correct, the right secured to the plaintiff in execution, of levying on the crop', ''), ('before', 'tried', ''), ('before', 'tried', ''), ('before', 'tried', ''), ('before', 'tried', ''), ('before', 'tried', ''), ('before', 'tried', '')]\n",
            "copyright: [('©', '2019', 'Thomson Reuters. No')]\n",
            "dates: [datetime.date(2021, 6, 1), datetime.date(1840, 11, 1), datetime.date(1839, 10, 1), datetime.date(1840, 9, 1), datetime.date(1840, 5, 1), datetime.date(1840, 5, 1), datetime.date(2021, 12, 1), datetime.date(2021, 12, 1), datetime.date(2021, 1, 1), datetime.date(2021, 1, 1), datetime.date(2021, 1, 1), datetime.date(2021, 3, 21), datetime.date(2021, 6, 1), datetime.date(2021, 7, 1), datetime.date(2021, 11, 1)]\n",
            "distances []\n",
            "durations: [('second', Decimal('20.0'), Decimal('0.0002')), ('year', Decimal('6.0'), Decimal('2190.0'))]\n",
            "cusip: []\n",
            "definations []\n",
            "money [(Decimal('100.0'), 'USD'), (Decimal('14000.0'), 'USD'), (Decimal('14000.0'), 'USD')]\n",
            "percents []\n",
            "pii []\n",
            "ratios []\n",
            "regualtons []\n",
            "trademarks: []\n",
            "urls []\n"
          ],
          "name": "stdout"
        }
      ]
    }
  ]
}