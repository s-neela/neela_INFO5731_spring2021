{
  "nbformat": 4,
  "nbformat_minor": 0,
  "metadata": {
    "kernelspec": {
      "display_name": "Python 3",
      "language": "python",
      "name": "python3"
    },
    "language_info": {
      "codemirror_mode": {
        "name": "ipython",
        "version": 3
      },
      "file_extension": ".py",
      "mimetype": "text/x-python",
      "name": "python",
      "nbconvert_exporter": "python",
      "pygments_lexer": "ipython3",
      "version": "3.8.5"
    },
    "colab": {
      "name": "In_Class_exercises-10.ipynb",
      "provenance": [],
      "include_colab_link": true
    }
  },
  "cells": [
    {
      "cell_type": "markdown",
      "metadata": {
        "id": "view-in-github",
        "colab_type": "text"
      },
      "source": [
        "<a href=\"https://colab.research.google.com/github/s-neela/neela_INFO5731_spring2021/blob/main/In_Class_exercises_10.ipynb\" target=\"_parent\"><img src=\"https://colab.research.google.com/assets/colab-badge.svg\" alt=\"Open In Colab\"/></a>"
      ]
    },
    {
      "cell_type": "markdown",
      "metadata": {
        "id": "38c8eLfKH5BS"
      },
      "source": [
        "# In class exercise 10 (20 points in total, 4/16/2021)"
      ]
    },
    {
      "cell_type": "markdown",
      "metadata": {
        "id": "KkoRWifNH5BT"
      },
      "source": [
        "The purpose of the exercise is to practice different machine learning algorithms for text clustering\n",
        "Please downlad the dataset by using the following link.  https://www.kaggle.com/PromptCloudHQ/amazon-reviews-unlocked-mobile-phones\n",
        "(You can also use different text data which you want)\n",
        "\n",
        "Apply the listed clustering methods to the dataset:\n",
        "\n",
        "K means, \n",
        "DBSCAN,\n",
        "Hierarchical clustering. \n",
        "\n",
        "You can refer to of the codes from  the follwing link below. \n",
        "https://www.kaggle.com/karthik3890/text-clustering \n",
        "    "
      ]
    },
    {
      "cell_type": "code",
      "metadata": {
        "colab": {
          "base_uri": "https://localhost:8080/"
        },
        "id": "FC4i2KFxH5BT",
        "outputId": "84c79654-8137-4126-b082-d1e183618fd5"
      },
      "source": [
        "\n",
        "import pandas as pd\n",
        "import gensim\n",
        "df=pd.read_csv(\"/content/Amazon_Unlocked_Mobile.csv\")\n",
        "import nltk\n",
        "nltk.download('punkt')\n",
        "from nltk.corpus import stopwords\n",
        "nltk.download('stopwords')\n",
        "from textblob import Word\n",
        "nltk.download('wordnet')\n",
        "from nltk.stem import PorterStemmer\n",
        "st = PorterStemmer()\n",
        "df = df[df['Reviews'].notnull()]\n",
        "stop = stopwords.words('english')\n",
        "df['after_punct_less'] = df['Reviews'].str.replace('[^\\w\\s].#','')\n",
        "df['after_rm_stopwords'] =df['after_punct_less'].apply(lambda x: \" \".join(x for x in x.split() if x not in stop))\n",
        "df['after_numerics']=df['after_rm_stopwords'].str.replace('[0-9]','')\n",
        "df['after_lowercasing'] =df['after_numerics'].apply(lambda x: \" \".join(x.lower() for x in x.split()))\n",
        "\n",
        "df['after_stemming']=df['after_lowercasing'].apply(lambda x: \" \".join([st.stem(word) for word in x.split()]))\n",
        "df['cleaned_text'] = df['after_stemming'].apply(lambda x: \" \".join([Word(word).lemmatize() for word in x.split()]))"
      ],
      "execution_count": 6,
      "outputs": [
        {
          "output_type": "stream",
          "text": [
            "[nltk_data] Downloading package punkt to /root/nltk_data...\n",
            "[nltk_data]   Unzipping tokenizers/punkt.zip.\n",
            "[nltk_data] Downloading package stopwords to /root/nltk_data...\n",
            "[nltk_data]   Unzipping corpora/stopwords.zip.\n",
            "[nltk_data] Downloading package wordnet to /root/nltk_data...\n",
            "[nltk_data]   Unzipping corpora/wordnet.zip.\n"
          ],
          "name": "stdout"
        }
      ]
    },
    {
      "cell_type": "code",
      "metadata": {
        "colab": {
          "base_uri": "https://localhost:8080/"
        },
        "id": "PWxvG-YqJSZC",
        "outputId": "4993105e-e6f5-4fd1-a120-ec954986e3b1"
      },
      "source": [
        "df['cleaned_text'].head()"
      ],
      "execution_count": 7,
      "outputs": [
        {
          "output_type": "execute_result",
          "data": {
            "text/plain": [
              "0    i feel lucki found use (phone u & use hard all...\n",
              "1    nice phone, nice grade pantach revue. veri cle...\n",
              "2                                            veri plea\n",
              "3      it work good goe slow sometim good phone i love\n",
              "4    great phone replac lost phone. the thing volum...\n",
              "Name: cleaned_text, dtype: object"
            ]
          },
          "metadata": {
            "tags": []
          },
          "execution_count": 7
        }
      ]
    },
    {
      "cell_type": "code",
      "metadata": {
        "id": "GzEJbIJ5JWeM"
      },
      "source": [
        "df_1=(df.sample(n=4000)).reset_index()"
      ],
      "execution_count": 8,
      "outputs": []
    },
    {
      "cell_type": "code",
      "metadata": {
        "colab": {
          "base_uri": "https://localhost:8080/"
        },
        "id": "5acyYmvbJZsb",
        "outputId": "8582763f-004b-4fce-c722-28e100acb0e3"
      },
      "source": [
        "\n",
        "from sklearn.feature_extraction.text import TfidfVectorizer\n",
        "tfidf_vect = TfidfVectorizer()\n",
        "tfidf = tfidf_vect.fit_transform(df_1['cleaned_text'].values)\n",
        "tfidf.shape"
      ],
      "execution_count": 9,
      "outputs": [
        {
          "output_type": "execute_result",
          "data": {
            "text/plain": [
              "(4000, 6589)"
            ]
          },
          "metadata": {
            "tags": []
          },
          "execution_count": 9
        }
      ]
    },
    {
      "cell_type": "code",
      "metadata": {
        "colab": {
          "base_uri": "https://localhost:8080/"
        },
        "id": "TdSKt4J9JfDL",
        "outputId": "66fd0399-93e8-4cf8-8e42-d53f7d16377b"
      },
      "source": [
        "from sklearn.cluster import KMeans\n",
        "model_tf = KMeans(n_clusters = 5, n_jobs = -1,random_state=99)\n",
        "model_tf.fit(tfidf)"
      ],
      "execution_count": 10,
      "outputs": [
        {
          "output_type": "execute_result",
          "data": {
            "text/plain": [
              "KMeans(algorithm='auto', copy_x=True, init='k-means++', max_iter=300,\n",
              "       n_clusters=5, n_init=10, n_jobs=-1, precompute_distances='auto',\n",
              "       random_state=99, tol=0.0001, verbose=0)"
            ]
          },
          "metadata": {
            "tags": []
          },
          "execution_count": 10
        }
      ]
    },
    {
      "cell_type": "code",
      "metadata": {
        "id": "RfLzTKXiJtIP"
      },
      "source": [
        "labels_tf = model_tf.labels_\n",
        "cluster_center_tf=model_tf.cluster_centers_"
      ],
      "execution_count": 11,
      "outputs": []
    },
    {
      "cell_type": "code",
      "metadata": {
        "colab": {
          "base_uri": "https://localhost:8080/",
          "height": 666
        },
        "id": "adl2KJFeJwxV",
        "outputId": "4a1321d3-c8de-4a23-aa8b-82aad515be98"
      },
      "source": [
        "terms1 = tfidf_vect.get_feature_names()\n",
        "terms1[1:5]\n",
        "df1 = df_1\n",
        "df1['Tfidf Clus Label'] = model_tf.labels_\n",
        "df1.head(5)"
      ],
      "execution_count": 12,
      "outputs": [
        {
          "output_type": "execute_result",
          "data": {
            "text/html": [
              "<div>\n",
              "<style scoped>\n",
              "    .dataframe tbody tr th:only-of-type {\n",
              "        vertical-align: middle;\n",
              "    }\n",
              "\n",
              "    .dataframe tbody tr th {\n",
              "        vertical-align: top;\n",
              "    }\n",
              "\n",
              "    .dataframe thead th {\n",
              "        text-align: right;\n",
              "    }\n",
              "</style>\n",
              "<table border=\"1\" class=\"dataframe\">\n",
              "  <thead>\n",
              "    <tr style=\"text-align: right;\">\n",
              "      <th></th>\n",
              "      <th>index</th>\n",
              "      <th>Product Name</th>\n",
              "      <th>Brand Name</th>\n",
              "      <th>Price</th>\n",
              "      <th>Rating</th>\n",
              "      <th>Reviews</th>\n",
              "      <th>Review Votes</th>\n",
              "      <th>after_punct_less</th>\n",
              "      <th>after_rm_stopwords</th>\n",
              "      <th>after_numerics</th>\n",
              "      <th>after_lowercasing</th>\n",
              "      <th>after_stemming</th>\n",
              "      <th>cleaned_text</th>\n",
              "      <th>Tfidf Clus Label</th>\n",
              "    </tr>\n",
              "  </thead>\n",
              "  <tbody>\n",
              "    <tr>\n",
              "      <th>0</th>\n",
              "      <td>193246</td>\n",
              "      <td>HTC One M7 32GB Unlocked GSM 4G LTE Android Ce...</td>\n",
              "      <td>HTC</td>\n",
              "      <td>133.95</td>\n",
              "      <td>2.0</td>\n",
              "      <td>it keeps updating and then everything get wipe...</td>\n",
              "      <td>0.0</td>\n",
              "      <td>it keeps updating and then everything get wipe...</td>\n",
              "      <td>keeps updating everything get wipes even type ...</td>\n",
              "      <td>keeps updating everything get wipes even type ...</td>\n",
              "      <td>keeps updating everything get wipes even type ...</td>\n",
              "      <td>keep updat everyth get wipe even type allow up...</td>\n",
              "      <td>keep updat everyth get wipe even type allow up...</td>\n",
              "      <td>4</td>\n",
              "    </tr>\n",
              "    <tr>\n",
              "      <th>1</th>\n",
              "      <td>184494</td>\n",
              "      <td>GreatCall Jitterbug5 Easy-to-Use Cell Phone an...</td>\n",
              "      <td>Jitterbug</td>\n",
              "      <td>99.90</td>\n",
              "      <td>2.0</td>\n",
              "      <td>Too small and the flip did not make it easy to...</td>\n",
              "      <td>0.0</td>\n",
              "      <td>Too small and the flip did not make it easy to...</td>\n",
              "      <td>Too small flip make easy use.</td>\n",
              "      <td>Too small flip make easy use.</td>\n",
              "      <td>too small flip make easy use.</td>\n",
              "      <td>too small flip make easi use.</td>\n",
              "      <td>too small flip make easi use.</td>\n",
              "      <td>4</td>\n",
              "    </tr>\n",
              "    <tr>\n",
              "      <th>2</th>\n",
              "      <td>17815</td>\n",
              "      <td>Apple iPhone 4s 8GB Unlocked Smartphone w/ 8MP...</td>\n",
              "      <td>NaN</td>\n",
              "      <td>99.99</td>\n",
              "      <td>5.0</td>\n",
              "      <td>Great quality, workes perfectly and looks new.</td>\n",
              "      <td>0.0</td>\n",
              "      <td>Great quality, workes perfectly and looks new.</td>\n",
              "      <td>Great quality, workes perfectly looks new.</td>\n",
              "      <td>Great quality, workes perfectly looks new.</td>\n",
              "      <td>great quality, workes perfectly looks new.</td>\n",
              "      <td>great quality, work perfectli look new.</td>\n",
              "      <td>great quality, work perfectli look new.</td>\n",
              "      <td>4</td>\n",
              "    </tr>\n",
              "    <tr>\n",
              "      <th>3</th>\n",
              "      <td>242250</td>\n",
              "      <td>Moto G Play (4th gen.) - Black - 16 GB - Unlocked</td>\n",
              "      <td>NaN</td>\n",
              "      <td>149.00</td>\n",
              "      <td>5.0</td>\n",
              "      <td>I really wanted to do a review for this phone,...</td>\n",
              "      <td>6.0</td>\n",
              "      <td>I really wanted to do a review for this phone,...</td>\n",
              "      <td>I really wanted review phone, everything Galax...</td>\n",
              "      <td>I really wanted review phone, everything Galax...</td>\n",
              "      <td>i really wanted review phone, everything galax...</td>\n",
              "      <td>i realli want review phone, everyth galaxi s d...</td>\n",
              "      <td>i realli want review phone, everyth galaxi s d...</td>\n",
              "      <td>4</td>\n",
              "    </tr>\n",
              "    <tr>\n",
              "      <th>4</th>\n",
              "      <td>84567</td>\n",
              "      <td>BlackBerry 8520OEMRED Gemini 8520 Unlocked Pho...</td>\n",
              "      <td>BlackBerry</td>\n",
              "      <td>39.99</td>\n",
              "      <td>5.0</td>\n",
              "      <td>It's a really good price for an unlocked black...</td>\n",
              "      <td>0.0</td>\n",
              "      <td>It's a really good price for an unlocked black...</td>\n",
              "      <td>It's really good price unlocked blackberry, es...</td>\n",
              "      <td>It's really good price unlocked blackberry, es...</td>\n",
              "      <td>it's really good price unlocked blackberry, es...</td>\n",
              "      <td>it' realli good price unlock blackberry, espec...</td>\n",
              "      <td>it' realli good price unlock blackberry, espec...</td>\n",
              "      <td>4</td>\n",
              "    </tr>\n",
              "  </tbody>\n",
              "</table>\n",
              "</div>"
            ],
            "text/plain": [
              "    index  ... Tfidf Clus Label\n",
              "0  193246  ...                4\n",
              "1  184494  ...                4\n",
              "2   17815  ...                4\n",
              "3  242250  ...                4\n",
              "4   84567  ...                4\n",
              "\n",
              "[5 rows x 14 columns]"
            ]
          },
          "metadata": {
            "tags": []
          },
          "execution_count": 12
        }
      ]
    },
    {
      "cell_type": "code",
      "metadata": {
        "colab": {
          "base_uri": "https://localhost:8080/"
        },
        "id": "Mg9v4Os1J0aU",
        "outputId": "8db4cbbf-f11f-44fa-e239-db53b1a2bb03"
      },
      "source": [
        "df1.groupby(['Tfidf Clus Label'])['cleaned_text'].count()"
      ],
      "execution_count": 13,
      "outputs": [
        {
          "output_type": "execute_result",
          "data": {
            "text/plain": [
              "Tfidf Clus Label\n",
              "0     170\n",
              "1     166\n",
              "2     192\n",
              "3     189\n",
              "4    3283\n",
              "Name: cleaned_text, dtype: int64"
            ]
          },
          "metadata": {
            "tags": []
          },
          "execution_count": 13
        }
      ]
    },
    {
      "cell_type": "code",
      "metadata": {
        "colab": {
          "base_uri": "https://localhost:8080/"
        },
        "id": "avaRBpCrJ1lg",
        "outputId": "6a44dadd-57e4-4fe2-f025-49d9736cc79f"
      },
      "source": [
        "print(\"Top terms per cluster:\")\n",
        "order_centroids = model_tf.cluster_centers_.argsort()[:, ::-1]\n",
        "for i in range(1,5):\n",
        "    print(\"Cluster %d:\" % i, end='')\n",
        "    for ind in order_centroids[i, :5]:\n",
        "        print(' %s' % terms1[ind], end='')\n",
        "        print()"
      ],
      "execution_count": 14,
      "outputs": [
        {
          "output_type": "stream",
          "text": [
            "Top terms per cluster:\n",
            "Cluster 1: love\n",
            " it\n",
            " phone\n",
            " great\n",
            " new\n",
            "Cluster 2: good\n",
            " veri\n",
            " phone\n",
            " product\n",
            " it\n",
            "Cluster 3: excel\n",
            " excelent\n",
            " product\n",
            " seller\n",
            " recommend\n",
            "Cluster 4: phone\n",
            " it\n",
            " work\n",
            " good\n",
            " the\n"
          ],
          "name": "stdout"
        }
      ]
    },
    {
      "cell_type": "code",
      "metadata": {
        "id": "0jgcqcJMKJL3"
      },
      "source": [
        "from sklearn.cluster import DBSCAN\n",
        "import numpy as np\n",
        "import matplotlib.pyplot as plt\n",
        "import gensim"
      ],
      "execution_count": 15,
      "outputs": []
    },
    {
      "cell_type": "code",
      "metadata": {
        "id": "fAKaB9fZKMpa"
      },
      "source": [
        "i=0\n",
        "list_of_sent=[]\n",
        "for sent in df_1['cleaned_text'].values:\n",
        "    list_of_sent.append(sent.split())"
      ],
      "execution_count": 16,
      "outputs": []
    },
    {
      "cell_type": "code",
      "metadata": {
        "colab": {
          "base_uri": "https://localhost:8080/"
        },
        "id": "SDQPh9XoKQiO",
        "outputId": "df0405c8-2ba8-4c25-e8aa-e7da10d55179"
      },
      "source": [
        "w2v_model=gensim.models.Word2Vec(list_of_sent,size=100, workers=4)\n",
        "import numpy as np\n",
        "sent_vectors = []; # the avg-w2v for each sentence/review is stored in this train\n",
        "for sent in list_of_sent: # for each review/sentence\n",
        "    sent_vec = np.zeros(100) # as word vectors are of zero length\n",
        "    cnt_words =0; # num of words with a valid vector in the sentence/review\n",
        "    for word in sent: # for each word in a review/sentence\n",
        "        try:\n",
        "            vec = w2v_model.wv[word]\n",
        "            sent_vec += vec\n",
        "            cnt_words += 1\n",
        "        except:\n",
        "            pass\n",
        "    sent_vec /= cnt_words\n",
        "    sent_vectors.append(sent_vec)\n",
        "sent_vectors = np.array(sent_vectors)\n",
        "sent_vectors = np.nan_to_num(sent_vectors)\n",
        "sent_vectors.shape"
      ],
      "execution_count": 17,
      "outputs": [
        {
          "output_type": "stream",
          "text": [
            "/usr/local/lib/python3.7/dist-packages/ipykernel_launcher.py:14: RuntimeWarning: invalid value encountered in true_divide\n",
            "  \n"
          ],
          "name": "stderr"
        },
        {
          "output_type": "execute_result",
          "data": {
            "text/plain": [
              "(4000, 100)"
            ]
          },
          "metadata": {
            "tags": []
          },
          "execution_count": 17
        }
      ]
    },
    {
      "cell_type": "code",
      "metadata": {
        "id": "aFopOH4MKVBz"
      },
      "source": [
        "# Computing 200th Nearest neighbour distance\n",
        "minPts = 2 * 100\n",
        "# Lower bound function copied from -> https://gist.github.com/m00nlight/0f9306b4d4e61ba0195f\n",
        "def lower_bound(nums, target): # This function return the number in the array just greater than or equal to itself.\n",
        "    l, r = 0, len(nums) - 1\n",
        "    while l <= r: # Binary searching.\n",
        "        mid = int(l + (r - l) / 2)\n",
        "        if nums[mid] >= target:\n",
        "            r = mid - 1\n",
        "        else:\n",
        "            l = mid + 1\n",
        "    return l\n",
        "\n",
        "def compute200thnearestneighbour(x, data): # Returns the distance of 200th nearest neighbour.\n",
        "    dists = []\n",
        "    for val in data:\n",
        "        dist = np.sum((x - val) **2 ) # computing distances.\n",
        "        if(len(dists) == 200 and dists[199] > dist): # If distance is larger than current largest distance found.\n",
        "            l = int(lower_bound(dists, dist)) # Using the lower bound function to get the right position.\n",
        "            if l < 200 and l >= 0 and dists[l] > dist:\n",
        "                dists[l] = dist\n",
        "        else:\n",
        "            dists.append(dist)\n",
        "            dists.sort()\n",
        "    \n",
        "    return dists[199]"
      ],
      "execution_count": 18,
      "outputs": []
    },
    {
      "cell_type": "code",
      "metadata": {
        "id": "GO3RwHwvKYos"
      },
      "source": [
        "twohundrethneigh = []\n",
        "for val in sent_vectors[:1500]:\n",
        "    twohundrethneigh.append( compute200thnearestneighbour(val, sent_vectors[:1500]) )\n",
        "twohundrethneigh.sort()"
      ],
      "execution_count": 22,
      "outputs": []
    },
    {
      "cell_type": "code",
      "metadata": {
        "colab": {
          "base_uri": "https://localhost:8080/",
          "height": 350
        },
        "id": "vmWJrjCJKkgS",
        "outputId": "9c0c0d98-8848-47d3-fca3-7dd752e5776d"
      },
      "source": [
        "plt.figure(figsize=(15,5))\n",
        "plt.title(\"Elbow Method for Finding the right Eps hyperparameter\")\n",
        "plt.plot([x for x in range(len(twohundrethneigh))], twohundrethneigh)\n",
        "plt.xlabel(\"Number of points\")\n",
        "plt.ylabel(\"Distance of 200th Nearest Neighbour\")\n",
        "plt.show()"
      ],
      "execution_count": 26,
      "outputs": [
        {
          "output_type": "display_data",
          "data": {
            "image/png": "[encoded data removed]",
            "text/plain": [
              "<Figure size 1080x360 with 1 Axes>"
            ]
          },
          "metadata": {
            "tags": [],
            "needs_background": "light"
          }
        }
      ]
    },
    {
      "cell_type": "markdown",
      "metadata": {
        "id": "Ra0gBDUsH5BU"
      },
      "source": [
        "In one paragraph, please compare K means, DBSCAN and Hierarchical clustering. "
      ]
    },
    {
      "cell_type": "code",
      "metadata": {
        "colab": {
          "base_uri": "https://localhost:8080/",
          "height": 369
        },
        "id": "O9wOnWt2L2Kd",
        "outputId": "33c08189-4a30-408b-fd37-866f4d155124"
      },
      "source": [
        "model = DBSCAN(eps = 8, min_samples = minPts, n_jobs=-2)\n",
        "model.fit(sent_vectors)\n",
        "df_1['AVG-W2V Clus Label'] = model.labels_\n",
        "df_1.head(2)\n"
      ],
      "execution_count": 27,
      "outputs": [
        {
          "output_type": "execute_result",
          "data": {
            "text/html": [
              "<div>\n",
              "<style scoped>\n",
              "    .dataframe tbody tr th:only-of-type {\n",
              "        vertical-align: middle;\n",
              "    }\n",
              "\n",
              "    .dataframe tbody tr th {\n",
              "        vertical-align: top;\n",
              "    }\n",
              "\n",
              "    .dataframe thead th {\n",
              "        text-align: right;\n",
              "    }\n",
              "</style>\n",
              "<table border=\"1\" class=\"dataframe\">\n",
              "  <thead>\n",
              "    <tr style=\"text-align: right;\">\n",
              "      <th></th>\n",
              "      <th>index</th>\n",
              "      <th>Product Name</th>\n",
              "      <th>Brand Name</th>\n",
              "      <th>Price</th>\n",
              "      <th>Rating</th>\n",
              "      <th>Reviews</th>\n",
              "      <th>Review Votes</th>\n",
              "      <th>after_punct_less</th>\n",
              "      <th>after_rm_stopwords</th>\n",
              "      <th>after_numerics</th>\n",
              "      <th>after_lowercasing</th>\n",
              "      <th>after_stemming</th>\n",
              "      <th>cleaned_text</th>\n",
              "      <th>Tfidf Clus Label</th>\n",
              "      <th>AVG-W2V Clus Label</th>\n",
              "    </tr>\n",
              "  </thead>\n",
              "  <tbody>\n",
              "    <tr>\n",
              "      <th>0</th>\n",
              "      <td>193246</td>\n",
              "      <td>HTC One M7 32GB Unlocked GSM 4G LTE Android Ce...</td>\n",
              "      <td>HTC</td>\n",
              "      <td>133.95</td>\n",
              "      <td>2.0</td>\n",
              "      <td>it keeps updating and then everything get wipe...</td>\n",
              "      <td>0.0</td>\n",
              "      <td>it keeps updating and then everything get wipe...</td>\n",
              "      <td>keeps updating everything get wipes even type ...</td>\n",
              "      <td>keeps updating everything get wipes even type ...</td>\n",
              "      <td>keeps updating everything get wipes even type ...</td>\n",
              "      <td>keep updat everyth get wipe even type allow up...</td>\n",
              "      <td>keep updat everyth get wipe even type allow up...</td>\n",
              "      <td>4</td>\n",
              "      <td>0</td>\n",
              "    </tr>\n",
              "    <tr>\n",
              "      <th>1</th>\n",
              "      <td>184494</td>\n",
              "      <td>GreatCall Jitterbug5 Easy-to-Use Cell Phone an...</td>\n",
              "      <td>Jitterbug</td>\n",
              "      <td>99.90</td>\n",
              "      <td>2.0</td>\n",
              "      <td>Too small and the flip did not make it easy to...</td>\n",
              "      <td>0.0</td>\n",
              "      <td>Too small and the flip did not make it easy to...</td>\n",
              "      <td>Too small flip make easy use.</td>\n",
              "      <td>Too small flip make easy use.</td>\n",
              "      <td>too small flip make easy use.</td>\n",
              "      <td>too small flip make easi use.</td>\n",
              "      <td>too small flip make easi use.</td>\n",
              "      <td>4</td>\n",
              "      <td>0</td>\n",
              "    </tr>\n",
              "  </tbody>\n",
              "</table>\n",
              "</div>"
            ],
            "text/plain": [
              "    index  ... AVG-W2V Clus Label\n",
              "0  193246  ...                  0\n",
              "1  184494  ...                  0\n",
              "\n",
              "[2 rows x 15 columns]"
            ]
          },
          "metadata": {
            "tags": []
          },
          "execution_count": 27
        }
      ]
    },
    {
      "cell_type": "code",
      "metadata": {
        "id": "l0YpHjxPH5BU"
      },
      "source": [
        "#You can write you answer here."
      ],
      "execution_count": null,
      "outputs": []
    },
    {
      "cell_type": "code",
      "metadata": {
        "colab": {
          "base_uri": "https://localhost:8080/",
          "height": 287
        },
        "id": "K4XRSin2L7H2",
        "outputId": "9f5e8757-10e9-4124-b19d-cb199927aa2a"
      },
      "source": [
        "import scipy\n",
        "from scipy.cluster import hierarchy\n",
        "dendro=hierarchy.dendrogram(hierarchy.linkage(sent_vectors,method='ward'))\n",
        "plt.axhline(y=20)"
      ],
      "execution_count": 28,
      "outputs": [
        {
          "output_type": "execute_result",
          "data": {
            "text/plain": [
              "<matplotlib.lines.Line2D at 0x7fb6a115e310>"
            ]
          },
          "metadata": {
            "tags": []
          },
          "execution_count": 28
        },
        {
          "output_type": "display_data",
          "data": {
            "image/png": "[encoded data removed]",
            "text/plain": [
              "<Figure size 432x288 with 1 Axes>"
            ]
          },
          "metadata": {
            "tags": [],
            "needs_background": "light"
          }
        }
      ]
    },
    {
      "cell_type": "code",
      "metadata": {
        "id": "aD3UDS1ZL7mH"
      },
      "source": [
        "from sklearn.cluster import AgglomerativeClustering\n",
        "\n",
        "cluster = AgglomerativeClustering(n_clusters=7, affinity='euclidean', linkage='ward')  \n",
        "Agg=cluster.fit_predict(sent_vectors)"
      ],
      "execution_count": 29,
      "outputs": []
    },
    {
      "cell_type": "code",
      "metadata": {
        "colab": {
          "base_uri": "https://localhost:8080/"
        },
        "id": "4TxI8EqZMa1G",
        "outputId": "fed4a284-e7c7-4517-dc44-2190fcc85ac1"
      },
      "source": [
        "df_1['AVG-W2V Clus Label'] = cluster.labels_\n",
        "df_1.head(2)\n",
        "df_1.groupby(['AVG-W2V Clus Label'])['cleaned_text'].count()"
      ],
      "execution_count": 30,
      "outputs": [
        {
          "output_type": "execute_result",
          "data": {
            "text/plain": [
              "AVG-W2V Clus Label\n",
              "0     592\n",
              "1     119\n",
              "2    1107\n",
              "3     771\n",
              "4     128\n",
              "5     613\n",
              "6     670\n",
              "Name: cleaned_text, dtype: int64"
            ]
          },
          "metadata": {
            "tags": []
          },
          "execution_count": 30
        }
      ]
    },
    {
      "cell_type": "code",
      "metadata": {
        "colab": {
          "base_uri": "https://localhost:8080/"
        },
        "id": "jPt_9f1hMeVW",
        "outputId": "484c8088-4daa-4822-9d28-20a8bc3a1c6e"
      },
      "source": [
        "for i in range(5):\n",
        "    print(\"2 reviews of assigned to cluster \", i)\n",
        "    print(\"-\" * 70)\n",
        "    print(df_1.iloc[df_1.groupby(['AVG-W2V Clus Label']).groups[i][0]]['cleaned_text'])\n",
        "    print('\\n')\n",
        "    print(df_1.iloc[df_1.groupby(['AVG-W2V Clus Label']).groups[i][1]]['cleaned_text'])\n",
        "    print('\\n')\n",
        "    print(\"_\" * 70)"
      ],
      "execution_count": 31,
      "outputs": [
        {
          "output_type": "stream",
          "text": [
            "2 reviews of assigned to cluster  0\n",
            "----------------------------------------------------------------------\n",
            "too small flip make easi use.\n",
            "\n",
            "\n",
            "guys.......thi phone awesom price, hd screen, good quality, amazing!\n",
            "\n",
            "\n",
            "______________________________________________________________________\n",
            "2 reviews of assigned to cluster  1\n",
            "----------------------------------------------------------------------\n",
            "bueno\n",
            "\n",
            "\n",
            "fair\n",
            "\n",
            "\n",
            "______________________________________________________________________\n",
            "2 reviews of assigned to cluster  2\n",
            "----------------------------------------------------------------------\n",
            "great quality, work perfectli look new.\n",
            "\n",
            "\n",
            "buy phone look someth least get close physic s (wa realli wanted), turn i love phone. it' great, screen super clear, pictur good, least complet menu, batteri suuuper, depend usag last least hour ... well, i comfort cell work perfect venezuela\n",
            "\n",
            "\n",
            "______________________________________________________________________\n",
            "2 reviews of assigned to cluster  3\n",
            "----------------------------------------------------------------------\n",
            "it' realli good price unlock blackberry, especi one newer models. i need unlock phone uncl could activ use venezuela\n",
            "\n",
            "\n",
            "so far good cell phone. when i learn alway get i'm look i might learn realli like it. it' hard tell long term perform new phone especi sinc first time use smartphone. there mani oper still explor now.\n",
            "\n",
            "\n",
            "______________________________________________________________________\n",
            "2 reviews of assigned to cluster  4\n",
            "----------------------------------------------------------------------\n",
            "excelent\n",
            "\n",
            "\n",
            "excelent\n",
            "\n",
            "\n",
            "______________________________________________________________________\n"
          ],
          "name": "stdout"
        }
      ]
    },
    {
      "cell_type": "markdown",
      "metadata": {
        "id": "MtrGvkBYMp4d"
      },
      "source": [
        "The DBSCAN can handle in any event, missing qualities in the informational index. Hierarchial grouping have parcel of commotion. We can say k-implies are ideal and ideal. k-implies bunching is a strategy for vector quantization, initially from signal preparing, that expects to parcel and perceptions into k groups in which every perception has a place with the group with the closest mean, filling in as a model of the group. we can see from the outcome that k-implies are straightforward than DBSCAN."
      ]
    },
    {
      "cell_type": "code",
      "metadata": {
        "id": "UlmmgQ3zMqxM"
      },
      "source": [
        ""
      ],
      "execution_count": null,
      "outputs": []
    },
    {
      "cell_type": "markdown",
      "metadata": {
        "id": "pH32pp1mMtgf"
      },
      "source": [
        "------------EOF---------------"
      ]
    },
    {
      "cell_type": "code",
      "metadata": {
        "id": "qlAVcvJRMvYj"
      },
      "source": [
        ""
      ],
      "execution_count": null,
      "outputs": []
    }
  ]
}